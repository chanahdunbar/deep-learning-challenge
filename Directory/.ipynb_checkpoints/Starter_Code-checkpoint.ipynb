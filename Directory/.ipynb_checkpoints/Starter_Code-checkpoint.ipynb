{
 "cells": [
  {
   "cell_type": "markdown",
   "metadata": {},
   "source": [
    "## Preprocessing"
   ]
  },
  {
   "cell_type": "code",
   "execution_count": 1,
   "metadata": {},
   "outputs": [
    {
     "name": "stderr",
     "output_type": "stream",
     "text": [
      "2023-05-23 23:12:19.666667: I tensorflow/core/platform/cpu_feature_guard.cc:182] This TensorFlow binary is optimized to use available CPU instructions in performance-critical operations.\n",
      "To enable the following instructions: AVX2 FMA, in other operations, rebuild TensorFlow with the appropriate compiler flags.\n"
     ]
    },
    {
     "data": {
      "text/html": [
       "<div>\n",
       "<style scoped>\n",
       "    .dataframe tbody tr th:only-of-type {\n",
       "        vertical-align: middle;\n",
       "    }\n",
       "\n",
       "    .dataframe tbody tr th {\n",
       "        vertical-align: top;\n",
       "    }\n",
       "\n",
       "    .dataframe thead th {\n",
       "        text-align: right;\n",
       "    }\n",
       "</style>\n",
       "<table border=\"1\" class=\"dataframe\">\n",
       "  <thead>\n",
       "    <tr style=\"text-align: right;\">\n",
       "      <th></th>\n",
       "      <th>EIN</th>\n",
       "      <th>NAME</th>\n",
       "      <th>APPLICATION_TYPE</th>\n",
       "      <th>AFFILIATION</th>\n",
       "      <th>CLASSIFICATION</th>\n",
       "      <th>USE_CASE</th>\n",
       "      <th>ORGANIZATION</th>\n",
       "      <th>STATUS</th>\n",
       "      <th>INCOME_AMT</th>\n",
       "      <th>SPECIAL_CONSIDERATIONS</th>\n",
       "      <th>ASK_AMT</th>\n",
       "      <th>IS_SUCCESSFUL</th>\n",
       "    </tr>\n",
       "  </thead>\n",
       "  <tbody>\n",
       "    <tr>\n",
       "      <th>0</th>\n",
       "      <td>10520599</td>\n",
       "      <td>BLUE KNIGHTS MOTORCYCLE CLUB</td>\n",
       "      <td>T10</td>\n",
       "      <td>Independent</td>\n",
       "      <td>C1000</td>\n",
       "      <td>ProductDev</td>\n",
       "      <td>Association</td>\n",
       "      <td>1</td>\n",
       "      <td>0</td>\n",
       "      <td>N</td>\n",
       "      <td>5000</td>\n",
       "      <td>1</td>\n",
       "    </tr>\n",
       "    <tr>\n",
       "      <th>1</th>\n",
       "      <td>10531628</td>\n",
       "      <td>AMERICAN CHESAPEAKE CLUB CHARITABLE TR</td>\n",
       "      <td>T3</td>\n",
       "      <td>Independent</td>\n",
       "      <td>C2000</td>\n",
       "      <td>Preservation</td>\n",
       "      <td>Co-operative</td>\n",
       "      <td>1</td>\n",
       "      <td>1-9999</td>\n",
       "      <td>N</td>\n",
       "      <td>108590</td>\n",
       "      <td>1</td>\n",
       "    </tr>\n",
       "    <tr>\n",
       "      <th>2</th>\n",
       "      <td>10547893</td>\n",
       "      <td>ST CLOUD PROFESSIONAL FIREFIGHTERS</td>\n",
       "      <td>T5</td>\n",
       "      <td>CompanySponsored</td>\n",
       "      <td>C3000</td>\n",
       "      <td>ProductDev</td>\n",
       "      <td>Association</td>\n",
       "      <td>1</td>\n",
       "      <td>0</td>\n",
       "      <td>N</td>\n",
       "      <td>5000</td>\n",
       "      <td>0</td>\n",
       "    </tr>\n",
       "    <tr>\n",
       "      <th>3</th>\n",
       "      <td>10553066</td>\n",
       "      <td>SOUTHSIDE ATHLETIC ASSOCIATION</td>\n",
       "      <td>T3</td>\n",
       "      <td>CompanySponsored</td>\n",
       "      <td>C2000</td>\n",
       "      <td>Preservation</td>\n",
       "      <td>Trust</td>\n",
       "      <td>1</td>\n",
       "      <td>10000-24999</td>\n",
       "      <td>N</td>\n",
       "      <td>6692</td>\n",
       "      <td>1</td>\n",
       "    </tr>\n",
       "    <tr>\n",
       "      <th>4</th>\n",
       "      <td>10556103</td>\n",
       "      <td>GENETIC RESEARCH INSTITUTE OF THE DESERT</td>\n",
       "      <td>T3</td>\n",
       "      <td>Independent</td>\n",
       "      <td>C1000</td>\n",
       "      <td>Heathcare</td>\n",
       "      <td>Trust</td>\n",
       "      <td>1</td>\n",
       "      <td>100000-499999</td>\n",
       "      <td>N</td>\n",
       "      <td>142590</td>\n",
       "      <td>1</td>\n",
       "    </tr>\n",
       "  </tbody>\n",
       "</table>\n",
       "</div>"
      ],
      "text/plain": [
       "        EIN                                      NAME APPLICATION_TYPE  \\\n",
       "0  10520599              BLUE KNIGHTS MOTORCYCLE CLUB              T10   \n",
       "1  10531628    AMERICAN CHESAPEAKE CLUB CHARITABLE TR               T3   \n",
       "2  10547893        ST CLOUD PROFESSIONAL FIREFIGHTERS               T5   \n",
       "3  10553066            SOUTHSIDE ATHLETIC ASSOCIATION               T3   \n",
       "4  10556103  GENETIC RESEARCH INSTITUTE OF THE DESERT               T3   \n",
       "\n",
       "        AFFILIATION CLASSIFICATION      USE_CASE  ORGANIZATION  STATUS  \\\n",
       "0       Independent          C1000    ProductDev   Association       1   \n",
       "1       Independent          C2000  Preservation  Co-operative       1   \n",
       "2  CompanySponsored          C3000    ProductDev   Association       1   \n",
       "3  CompanySponsored          C2000  Preservation         Trust       1   \n",
       "4       Independent          C1000     Heathcare         Trust       1   \n",
       "\n",
       "      INCOME_AMT SPECIAL_CONSIDERATIONS  ASK_AMT  IS_SUCCESSFUL  \n",
       "0              0                      N     5000              1  \n",
       "1         1-9999                      N   108590              1  \n",
       "2              0                      N     5000              0  \n",
       "3    10000-24999                      N     6692              1  \n",
       "4  100000-499999                      N   142590              1  "
      ]
     },
     "execution_count": 1,
     "metadata": {},
     "output_type": "execute_result"
    }
   ],
   "source": [
    "# Import our dependencies\n",
    "from sklearn.model_selection import train_test_split\n",
    "from sklearn.preprocessing import StandardScaler\n",
    "import pandas as pd\n",
    "import tensorflow as tf\n",
    "\n",
    "#  Import and read the charity_data.csv.\n",
    "import pandas as pd \n",
    "application_df = pd.read_csv(\"https://static.bc-edx.com/data/dl-1-2/m21/lms/starter/charity_data.csv\")\n",
    "application_df.head()"
   ]
  },
  {
   "cell_type": "code",
   "execution_count": 2,
   "metadata": {},
   "outputs": [],
   "source": [
    "# Drop the non-beneficial ID columns, 'EIN' and 'NAME'.\n",
    "application_df = application_df.drop(columns=['EIN','NAME'])"
   ]
  },
  {
   "cell_type": "code",
   "execution_count": 3,
   "metadata": {},
   "outputs": [
    {
     "data": {
      "text/plain": [
       "APPLICATION_TYPE            17\n",
       "AFFILIATION                  6\n",
       "CLASSIFICATION              71\n",
       "USE_CASE                     5\n",
       "ORGANIZATION                 4\n",
       "STATUS                       2\n",
       "INCOME_AMT                   9\n",
       "SPECIAL_CONSIDERATIONS       2\n",
       "ASK_AMT                   8747\n",
       "IS_SUCCESSFUL                2\n",
       "dtype: int64"
      ]
     },
     "execution_count": 3,
     "metadata": {},
     "output_type": "execute_result"
    }
   ],
   "source": [
    "# Determine the number of unique values in each column.\n",
    "application_df.nunique()"
   ]
  },
  {
   "cell_type": "code",
   "execution_count": 4,
   "metadata": {},
   "outputs": [
    {
     "data": {
      "text/plain": [
       "T3     27037\n",
       "T4      1542\n",
       "T6      1216\n",
       "T5      1173\n",
       "T19     1065\n",
       "T8       737\n",
       "T7       725\n",
       "T10      528\n",
       "T9       156\n",
       "T13       66\n",
       "T12       27\n",
       "T2        16\n",
       "T25        3\n",
       "T14        3\n",
       "T29        2\n",
       "T15        2\n",
       "T17        1\n",
       "Name: APPLICATION_TYPE, dtype: int64"
      ]
     },
     "execution_count": 4,
     "metadata": {},
     "output_type": "execute_result"
    }
   ],
   "source": [
    "# Look at APPLICATION_TYPE value counts for binning\n",
    "apptype_vcounts = application_df['APPLICATION_TYPE'].value_counts()\n",
    "apptype_vcounts"
   ]
  },
  {
   "cell_type": "code",
   "execution_count": 5,
   "metadata": {},
   "outputs": [
    {
     "data": {
      "text/plain": [
       "T3       27037\n",
       "T4        1542\n",
       "T6        1216\n",
       "T5        1173\n",
       "T19       1065\n",
       "T8         737\n",
       "T7         725\n",
       "T10        528\n",
       "Other      276\n",
       "Name: APPLICATION_TYPE, dtype: int64"
      ]
     },
     "execution_count": 5,
     "metadata": {},
     "output_type": "execute_result"
    }
   ],
   "source": [
    "# Choose a cutoff value and create a list of application types to be replaced\n",
    "# use the variable name `application_types_to_replace`\n",
    "application_types_to_replace = list(apptype_vcounts[apptype_vcounts<160].index)\n",
    "\n",
    "# Replace in dataframe\n",
    "for app in application_types_to_replace:\n",
    "    application_df['APPLICATION_TYPE'] = application_df['APPLICATION_TYPE'].replace(app,\"Other\")\n",
    "\n",
    "# Check to make sure binning was successful\n",
    "application_df['APPLICATION_TYPE'].value_counts()"
   ]
  },
  {
   "cell_type": "code",
   "execution_count": 6,
   "metadata": {},
   "outputs": [
    {
     "data": {
      "text/plain": [
       "C1000    17326\n",
       "C2000     6074\n",
       "C1200     4837\n",
       "C3000     1918\n",
       "C2100     1883\n",
       "         ...  \n",
       "C4120        1\n",
       "C8210        1\n",
       "C2561        1\n",
       "C4500        1\n",
       "C2150        1\n",
       "Name: CLASSIFICATION, Length: 71, dtype: int64"
      ]
     },
     "execution_count": 6,
     "metadata": {},
     "output_type": "execute_result"
    }
   ],
   "source": [
    "# Look at CLASSIFICATION value counts for binning\n",
    "binning = application_df['CLASSIFICATION'].value_counts()\n",
    "binning"
   ]
  },
  {
   "cell_type": "code",
   "execution_count": 7,
   "metadata": {},
   "outputs": [
    {
     "data": {
      "text/plain": [
       "C1000    17326\n",
       "C2000     6074\n",
       "C1200     4837\n",
       "C3000     1918\n",
       "C2100     1883\n",
       "C7000      777\n",
       "C1700      287\n",
       "C4000      194\n",
       "C5000      116\n",
       "C1270      114\n",
       "C2700      104\n",
       "C2800       95\n",
       "C7100       75\n",
       "C1300       58\n",
       "C1280       50\n",
       "C1230       36\n",
       "C1400       34\n",
       "C7200       32\n",
       "C2300       32\n",
       "C1240       30\n",
       "C8000       20\n",
       "C7120       18\n",
       "C1500       16\n",
       "C1800       15\n",
       "C6000       15\n",
       "C1250       14\n",
       "C8200       11\n",
       "C1238       10\n",
       "C1278       10\n",
       "C1235        9\n",
       "C1237        9\n",
       "C7210        7\n",
       "C2400        6\n",
       "C1720        6\n",
       "C4100        6\n",
       "C1257        5\n",
       "C1600        5\n",
       "C1260        3\n",
       "C2710        3\n",
       "C0           3\n",
       "C3200        2\n",
       "C1234        2\n",
       "C1246        2\n",
       "C1267        2\n",
       "C1256        2\n",
       "Name: CLASSIFICATION, dtype: int64"
      ]
     },
     "execution_count": 7,
     "metadata": {},
     "output_type": "execute_result"
    }
   ],
   "source": [
    "# You may find it helpful to look at CLASSIFICATION value counts >1\n",
    "binning[binning>1]"
   ]
  },
  {
   "cell_type": "code",
   "execution_count": 8,
   "metadata": {},
   "outputs": [
    {
     "data": {
      "text/plain": [
       "C1000    17326\n",
       "C2000     6074\n",
       "C1200     4837\n",
       "Other     2261\n",
       "C3000     1918\n",
       "C2100     1883\n",
       "Name: CLASSIFICATION, dtype: int64"
      ]
     },
     "execution_count": 8,
     "metadata": {},
     "output_type": "execute_result"
    }
   ],
   "source": [
    "# Choose a cutoff value and create a list of classifications to be replaced\n",
    "# use the variable name `classifications_to_replace`\n",
    "classifications_to_replace = list(binning[binning<1000].index)\n",
    "\n",
    "# Replace in dataframe\n",
    "for cls in classifications_to_replace:\n",
    "    application_df['CLASSIFICATION'] = application_df['CLASSIFICATION'].replace(cls,\"Other\")\n",
    "    \n",
    "# Check to make sure binning was successful\n",
    "application_df['CLASSIFICATION'].value_counts()"
   ]
  },
  {
   "cell_type": "code",
   "execution_count": 9,
   "metadata": {},
   "outputs": [],
   "source": [
    "# Convert categorical data to numeric with `pd.get_dummies`\n",
    "application_df = pd.get_dummies(application_df, dtype=float)"
   ]
  },
  {
   "cell_type": "code",
   "execution_count": 10,
   "metadata": {},
   "outputs": [],
   "source": [
    "# Split our preprocessed data into our features and target arrays\n",
    "X = application_df.copy()\n",
    "X.drop('IS_SUCCESSFUL', axis=1)\n",
    "#X.head()\n",
    "\n",
    "y = application_df['IS_SUCCESSFUL'].values.reshape(-1,1)\n",
    "#y[:5]\n",
    "\n",
    "# Split the preprocessed data into a training and testing dataset\n",
    "X_train, X_test, y_train, y_test = train_test_split(X, y, random_state=42)"
   ]
  },
  {
   "cell_type": "code",
   "execution_count": 11,
   "metadata": {},
   "outputs": [],
   "source": [
    "# Create a StandardScaler instances\n",
    "scaler = StandardScaler()\n",
    "\n",
    "# Fit the StandardScaler\n",
    "X_scaler = scaler.fit(X_train)\n",
    "\n",
    "# Scale the data\n",
    "X_train_scaled = X_scaler.transform(X_train)\n",
    "X_test_scaled = X_scaler.transform(X_test)"
   ]
  },
  {
   "cell_type": "markdown",
   "metadata": {},
   "source": [
    "## Compile, Train and Evaluate the Model"
   ]
  },
  {
   "cell_type": "code",
   "execution_count": 16,
   "metadata": {},
   "outputs": [
    {
     "name": "stdout",
     "output_type": "stream",
     "text": [
      "Model: \"sequential_1\"\n",
      "_________________________________________________________________\n",
      " Layer (type)                Output Shape              Param #   \n",
      "=================================================================\n",
      " dense_3 (Dense)             (None, 6)                 270       \n",
      "                                                                 \n",
      " dense_4 (Dense)             (None, 6)                 42        \n",
      "                                                                 \n",
      " dense_5 (Dense)             (None, 1)                 7         \n",
      "                                                                 \n",
      "=================================================================\n",
      "Total params: 319\n",
      "Trainable params: 319\n",
      "Non-trainable params: 0\n",
      "_________________________________________________________________\n"
     ]
    }
   ],
   "source": [
    "# Define the model - deep neural net, i.e., the number of input features and hidden nodes for each layer.\n",
    "\n",
    "model = tf.keras.models.Sequential()\n",
    "\n",
    "# First hidden layer\n",
    "model.add(tf.keras.layers.Dense(units=6, activation='relu', input_dim=len( X_train_scaled[0])))\n",
    "\n",
    "# Second hidden layer\n",
    "model.add(tf.keras.layers.Dense(units=6, activation='relu'))\n",
    "\n",
    "# Output layer\n",
    "model.add(tf.keras.layers.Dense(units=1, activation=\"sigmoid\"))\n",
    "\n",
    "# Check the structure of the model\n",
    "model.summary()"
   ]
  },
  {
   "cell_type": "code",
   "execution_count": 17,
   "metadata": {},
   "outputs": [],
   "source": [
    "# Compile the model\n",
    "model.compile(loss='binary_crossentropy', optimizer='adam', metrics=['accuracy'])"
   ]
  },
  {
   "cell_type": "code",
   "execution_count": 18,
   "metadata": {},
   "outputs": [
    {
     "name": "stdout",
     "output_type": "stream",
     "text": [
      "Epoch 1/100\n",
      "804/804 [==============================] - 2s 2ms/step - loss: 0.2771 - accuracy: 0.8818\n",
      "Epoch 2/100\n",
      "804/804 [==============================] - 1s 2ms/step - loss: 0.0316 - accuracy: 0.9966\n",
      "Epoch 3/100\n",
      "804/804 [==============================] - 1s 2ms/step - loss: 0.0107 - accuracy: 0.9988\n",
      "Epoch 4/100\n",
      "804/804 [==============================] - 1s 2ms/step - loss: 0.0047 - accuracy: 0.9994\n",
      "Epoch 5/100\n",
      "804/804 [==============================] - 1s 2ms/step - loss: 0.0027 - accuracy: 0.9998\n",
      "Epoch 6/100\n",
      "804/804 [==============================] - 1s 2ms/step - loss: 0.0017 - accuracy: 0.9999\n",
      "Epoch 7/100\n",
      "804/804 [==============================] - 1s 2ms/step - loss: 0.0013 - accuracy: 0.9999\n",
      "Epoch 8/100\n",
      "804/804 [==============================] - 1s 2ms/step - loss: 0.0011 - accuracy: 0.9998\n",
      "Epoch 9/100\n",
      "804/804 [==============================] - 2s 2ms/step - loss: 9.5220e-04 - accuracy: 0.9999\n",
      "Epoch 10/100\n",
      "804/804 [==============================] - 2s 2ms/step - loss: 8.9316e-04 - accuracy: 0.9999\n",
      "Epoch 11/100\n",
      "804/804 [==============================] - 1s 2ms/step - loss: 8.6871e-04 - accuracy: 0.9999\n",
      "Epoch 12/100\n",
      "804/804 [==============================] - 1s 2ms/step - loss: 8.2428e-04 - accuracy: 0.9999\n",
      "Epoch 13/100\n",
      "804/804 [==============================] - 2s 2ms/step - loss: 8.1834e-04 - accuracy: 0.9999\n",
      "Epoch 14/100\n",
      "804/804 [==============================] - 2s 2ms/step - loss: 8.1586e-04 - accuracy: 0.9999\n",
      "Epoch 15/100\n",
      "804/804 [==============================] - 1s 2ms/step - loss: 7.9925e-04 - accuracy: 0.9999\n",
      "Epoch 16/100\n",
      "804/804 [==============================] - 2s 2ms/step - loss: 7.8726e-04 - accuracy: 0.9999\n",
      "Epoch 17/100\n",
      "804/804 [==============================] - 2s 3ms/step - loss: 7.5046e-04 - accuracy: 0.9999\n",
      "Epoch 18/100\n",
      "804/804 [==============================] - 1s 2ms/step - loss: 6.9833e-04 - accuracy: 0.9999\n",
      "Epoch 19/100\n",
      "804/804 [==============================] - 1s 2ms/step - loss: 6.7927e-04 - accuracy: 0.9999\n",
      "Epoch 20/100\n",
      "804/804 [==============================] - 1s 2ms/step - loss: 6.6650e-04 - accuracy: 0.9999\n",
      "Epoch 21/100\n",
      "804/804 [==============================] - 1s 2ms/step - loss: 6.5383e-04 - accuracy: 0.9999\n",
      "Epoch 22/100\n",
      "804/804 [==============================] - 1s 2ms/step - loss: 5.7459e-04 - accuracy: 0.9999\n",
      "Epoch 23/100\n",
      "804/804 [==============================] - 1s 2ms/step - loss: 5.3948e-04 - accuracy: 0.9999\n",
      "Epoch 24/100\n",
      "804/804 [==============================] - 2s 2ms/step - loss: 6.3046e-04 - accuracy: 0.9998\n",
      "Epoch 25/100\n",
      "804/804 [==============================] - 1s 2ms/step - loss: 4.5075e-04 - accuracy: 0.9999\n",
      "Epoch 26/100\n",
      "804/804 [==============================] - 1s 2ms/step - loss: 4.1245e-04 - accuracy: 0.9999\n",
      "Epoch 27/100\n",
      "804/804 [==============================] - 1s 2ms/step - loss: 3.7680e-04 - accuracy: 0.9999\n",
      "Epoch 28/100\n",
      "804/804 [==============================] - 1s 2ms/step - loss: 3.4497e-04 - accuracy: 0.9999\n",
      "Epoch 29/100\n",
      "804/804 [==============================] - 1s 2ms/step - loss: 3.1861e-04 - accuracy: 0.9999\n",
      "Epoch 30/100\n",
      "804/804 [==============================] - 1s 2ms/step - loss: 2.9519e-04 - accuracy: 0.9999\n",
      "Epoch 31/100\n",
      "804/804 [==============================] - 1s 2ms/step - loss: 2.7719e-04 - accuracy: 0.9999\n",
      "Epoch 32/100\n",
      "804/804 [==============================] - 2s 2ms/step - loss: 2.6455e-04 - accuracy: 0.9999\n",
      "Epoch 33/100\n",
      "804/804 [==============================] - 2s 2ms/step - loss: 2.5465e-04 - accuracy: 0.9999\n",
      "Epoch 34/100\n",
      "804/804 [==============================] - 2s 2ms/step - loss: 2.5138e-04 - accuracy: 0.9999\n",
      "Epoch 35/100\n",
      "804/804 [==============================] - 2s 3ms/step - loss: 2.5194e-04 - accuracy: 0.9999\n",
      "Epoch 36/100\n",
      "804/804 [==============================] - 3s 3ms/step - loss: 2.4788e-04 - accuracy: 0.9999\n",
      "Epoch 37/100\n",
      "804/804 [==============================] - 2s 2ms/step - loss: 2.4989e-04 - accuracy: 0.9999\n",
      "Epoch 38/100\n",
      "804/804 [==============================] - 1s 2ms/step - loss: 2.4600e-04 - accuracy: 0.9999\n",
      "Epoch 39/100\n",
      "804/804 [==============================] - 1s 2ms/step - loss: 3.1511e-04 - accuracy: 0.9998\n",
      "Epoch 40/100\n",
      "804/804 [==============================] - 1s 2ms/step - loss: 2.4276e-04 - accuracy: 0.9999\n",
      "Epoch 41/100\n",
      "804/804 [==============================] - 1s 2ms/step - loss: 2.4328e-04 - accuracy: 0.9999\n",
      "Epoch 42/100\n",
      "804/804 [==============================] - 1s 2ms/step - loss: 2.4402e-04 - accuracy: 0.9999\n",
      "Epoch 43/100\n",
      "804/804 [==============================] - 1s 2ms/step - loss: 2.4247e-04 - accuracy: 0.9999\n",
      "Epoch 44/100\n",
      "804/804 [==============================] - 1s 2ms/step - loss: 2.4368e-04 - accuracy: 0.9999\n",
      "Epoch 45/100\n",
      "804/804 [==============================] - 1s 2ms/step - loss: 2.4507e-04 - accuracy: 0.9999\n",
      "Epoch 46/100\n",
      "804/804 [==============================] - 1s 2ms/step - loss: 2.4309e-04 - accuracy: 0.9999\n",
      "Epoch 47/100\n",
      "804/804 [==============================] - 1s 2ms/step - loss: 2.4669e-04 - accuracy: 0.9999\n",
      "Epoch 48/100\n",
      "804/804 [==============================] - 2s 2ms/step - loss: 2.4653e-04 - accuracy: 0.9999\n",
      "Epoch 49/100\n",
      "804/804 [==============================] - 3s 4ms/step - loss: 2.4383e-04 - accuracy: 0.9999\n",
      "Epoch 50/100\n",
      "804/804 [==============================] - 3s 3ms/step - loss: 2.4384e-04 - accuracy: 0.9999\n",
      "Epoch 51/100\n",
      "804/804 [==============================] - 1s 2ms/step - loss: 2.4511e-04 - accuracy: 0.9999\n",
      "Epoch 52/100\n",
      "804/804 [==============================] - 1s 2ms/step - loss: 2.4388e-04 - accuracy: 0.9999\n",
      "Epoch 53/100\n",
      "804/804 [==============================] - 2s 3ms/step - loss: 2.4391e-04 - accuracy: 0.9999\n",
      "Epoch 54/100\n",
      "804/804 [==============================] - 2s 2ms/step - loss: 2.4342e-04 - accuracy: 0.9999\n",
      "Epoch 55/100\n",
      "804/804 [==============================] - 1s 2ms/step - loss: 2.4269e-04 - accuracy: 0.9999\n",
      "Epoch 56/100\n",
      "804/804 [==============================] - 3s 3ms/step - loss: 2.5900e-04 - accuracy: 0.9999\n",
      "Epoch 57/100\n",
      "804/804 [==============================] - 2s 2ms/step - loss: 2.4518e-04 - accuracy: 0.9999\n",
      "Epoch 58/100\n",
      "804/804 [==============================] - 2s 2ms/step - loss: 2.4573e-04 - accuracy: 0.9999\n",
      "Epoch 59/100\n",
      "804/804 [==============================] - 1s 2ms/step - loss: 2.4343e-04 - accuracy: 0.9999\n",
      "Epoch 60/100\n",
      "804/804 [==============================] - 2s 2ms/step - loss: 2.4487e-04 - accuracy: 0.9999\n",
      "Epoch 61/100\n",
      "804/804 [==============================] - 1s 2ms/step - loss: 2.4842e-04 - accuracy: 0.9999\n",
      "Epoch 62/100\n",
      "804/804 [==============================] - 1s 2ms/step - loss: 2.4378e-04 - accuracy: 0.9999\n",
      "Epoch 63/100\n",
      "804/804 [==============================] - 1s 2ms/step - loss: 2.4632e-04 - accuracy: 0.9999\n",
      "Epoch 64/100\n",
      "804/804 [==============================] - 1s 2ms/step - loss: 2.4442e-04 - accuracy: 0.9999\n",
      "Epoch 65/100\n",
      "804/804 [==============================] - 1s 2ms/step - loss: 2.4469e-04 - accuracy: 0.9999\n",
      "Epoch 66/100\n",
      "804/804 [==============================] - 1s 2ms/step - loss: 2.4321e-04 - accuracy: 0.9999\n",
      "Epoch 67/100\n",
      "804/804 [==============================] - 1s 2ms/step - loss: 2.4513e-04 - accuracy: 0.9999\n",
      "Epoch 68/100\n",
      "804/804 [==============================] - 1s 2ms/step - loss: 2.4242e-04 - accuracy: 0.9999\n",
      "Epoch 69/100\n",
      "804/804 [==============================] - 1s 2ms/step - loss: 2.4797e-04 - accuracy: 0.9999\n",
      "Epoch 70/100\n",
      "804/804 [==============================] - 1s 2ms/step - loss: 2.4770e-04 - accuracy: 0.9999\n",
      "Epoch 71/100\n",
      "804/804 [==============================] - 1s 2ms/step - loss: 2.4305e-04 - accuracy: 0.9999\n",
      "Epoch 72/100\n",
      "804/804 [==============================] - 1s 2ms/step - loss: 2.4391e-04 - accuracy: 0.9999\n",
      "Epoch 73/100\n",
      "804/804 [==============================] - 1s 2ms/step - loss: 2.4379e-04 - accuracy: 0.9999\n",
      "Epoch 74/100\n",
      "804/804 [==============================] - 1s 2ms/step - loss: 2.4379e-04 - accuracy: 0.9999\n",
      "Epoch 75/100\n",
      "804/804 [==============================] - 1s 2ms/step - loss: 2.4349e-04 - accuracy: 0.9999\n",
      "Epoch 76/100\n",
      "804/804 [==============================] - 1s 2ms/step - loss: 2.4652e-04 - accuracy: 0.9999\n",
      "Epoch 77/100\n",
      "804/804 [==============================] - 1s 2ms/step - loss: 2.4417e-04 - accuracy: 0.9999\n",
      "Epoch 78/100\n"
     ]
    },
    {
     "name": "stdout",
     "output_type": "stream",
     "text": [
      "804/804 [==============================] - 1s 2ms/step - loss: 2.4463e-04 - accuracy: 0.9999\n",
      "Epoch 79/100\n",
      "804/804 [==============================] - 1s 2ms/step - loss: 2.4412e-04 - accuracy: 0.9999\n",
      "Epoch 80/100\n",
      "804/804 [==============================] - 1s 2ms/step - loss: 2.4269e-04 - accuracy: 0.9999\n",
      "Epoch 81/100\n",
      "804/804 [==============================] - 1s 2ms/step - loss: 2.4511e-04 - accuracy: 0.9999\n",
      "Epoch 82/100\n",
      "804/804 [==============================] - 1s 2ms/step - loss: 2.4490e-04 - accuracy: 0.9999\n",
      "Epoch 83/100\n",
      "804/804 [==============================] - 1s 2ms/step - loss: 2.4488e-04 - accuracy: 0.9999\n",
      "Epoch 84/100\n",
      "804/804 [==============================] - 1s 2ms/step - loss: 2.4501e-04 - accuracy: 0.9999\n",
      "Epoch 85/100\n",
      "804/804 [==============================] - 1s 2ms/step - loss: 2.4465e-04 - accuracy: 0.9999\n",
      "Epoch 86/100\n",
      "804/804 [==============================] - 1s 2ms/step - loss: 2.4315e-04 - accuracy: 0.9999\n",
      "Epoch 87/100\n",
      "804/804 [==============================] - 1s 2ms/step - loss: 2.4519e-04 - accuracy: 0.9999\n",
      "Epoch 88/100\n",
      "804/804 [==============================] - 1s 2ms/step - loss: 2.4475e-04 - accuracy: 0.9999\n",
      "Epoch 89/100\n",
      "804/804 [==============================] - 1s 2ms/step - loss: 2.4611e-04 - accuracy: 0.9999\n",
      "Epoch 90/100\n",
      "804/804 [==============================] - 1s 2ms/step - loss: 2.4364e-04 - accuracy: 0.9999\n",
      "Epoch 91/100\n",
      "804/804 [==============================] - 1s 2ms/step - loss: 2.4409e-04 - accuracy: 0.9999\n",
      "Epoch 92/100\n",
      "804/804 [==============================] - 1s 2ms/step - loss: 2.4853e-04 - accuracy: 0.9999\n",
      "Epoch 93/100\n",
      "804/804 [==============================] - 1s 2ms/step - loss: 2.4485e-04 - accuracy: 0.9999\n",
      "Epoch 94/100\n",
      "804/804 [==============================] - 1s 2ms/step - loss: 2.4526e-04 - accuracy: 0.9999\n",
      "Epoch 95/100\n",
      "804/804 [==============================] - 1s 2ms/step - loss: 2.4468e-04 - accuracy: 0.9999\n",
      "Epoch 96/100\n",
      "804/804 [==============================] - 1s 2ms/step - loss: 2.4429e-04 - accuracy: 0.9999\n",
      "Epoch 97/100\n",
      "804/804 [==============================] - 1s 2ms/step - loss: 2.4429e-04 - accuracy: 0.9999\n",
      "Epoch 98/100\n",
      "804/804 [==============================] - 1s 2ms/step - loss: 2.4368e-04 - accuracy: 0.9999\n",
      "Epoch 99/100\n",
      "804/804 [==============================] - 1s 2ms/step - loss: 2.4490e-04 - accuracy: 0.9999\n",
      "Epoch 100/100\n",
      "804/804 [==============================] - 1s 2ms/step - loss: 2.4376e-04 - accuracy: 0.9999\n"
     ]
    }
   ],
   "source": [
    "# Train the model\n",
    "fit_model = model.fit(X_train_scaled, y_train, epochs=100)"
   ]
  },
  {
   "cell_type": "code",
   "execution_count": 19,
   "metadata": {},
   "outputs": [
    {
     "name": "stdout",
     "output_type": "stream",
     "text": [
      "268/268 - 0s - loss: 1.5947e-04 - accuracy: 1.0000 - 400ms/epoch - 1ms/step\n",
      "Loss: 0.00015946992789395154, Accuracy: 1.0\n"
     ]
    }
   ],
   "source": [
    "# Evaluate the model using the test data\n",
    "model_loss, model_accuracy = model.evaluate(X_test_scaled,y_test,verbose=2)\n",
    "print(f\"Loss: {model_loss}, Accuracy: {model_accuracy}\")"
   ]
  },
  {
   "cell_type": "code",
   "execution_count": 22,
   "metadata": {},
   "outputs": [
    {
     "ename": "ModuleNotFoundError",
     "evalue": "No module named 'google.colab'",
     "output_type": "error",
     "traceback": [
      "\u001b[0;31m---------------------------------------------------------------------------\u001b[0m",
      "\u001b[0;31mModuleNotFoundError\u001b[0m                       Traceback (most recent call last)",
      "Input \u001b[0;32mIn [22]\u001b[0m, in \u001b[0;36m<cell line: 4>\u001b[0;34m()\u001b[0m\n\u001b[1;32m      1\u001b[0m \u001b[38;5;66;03m# Export our model to HDF5 file\u001b[39;00m\n\u001b[1;32m      2\u001b[0m model\u001b[38;5;241m.\u001b[39msave(\u001b[38;5;124m\"\u001b[39m\u001b[38;5;124mAlphabetSoupCharity.h5\u001b[39m\u001b[38;5;124m\"\u001b[39m)\n\u001b[0;32m----> 4\u001b[0m \u001b[38;5;28;01mfrom\u001b[39;00m \u001b[38;5;21;01mgoogle\u001b[39;00m\u001b[38;5;21;01m.\u001b[39;00m\u001b[38;5;21;01mcolab\u001b[39;00m \u001b[38;5;28;01mimport\u001b[39;00m files\n\u001b[1;32m      5\u001b[0m files\u001b[38;5;241m.\u001b[39mdownload(\u001b[38;5;124m'\u001b[39m\u001b[38;5;124mAlphabetSoupCharity.h5\u001b[39m\u001b[38;5;124m'\u001b[39m)\n",
      "\u001b[0;31mModuleNotFoundError\u001b[0m: No module named 'google.colab'"
     ]
    }
   ],
   "source": [
    "# Export our model to HDF5 file\n",
    "model.save(\"AlphabetSoupCharity.h5\")\n",
    "\n",
    "from google.colab import files\n",
    "files.download('AlphabetSoupCharity.h5')"
   ]
  },
  {
   "cell_type": "code",
   "execution_count": null,
   "metadata": {},
   "outputs": [],
   "source": []
  }
 ],
 "metadata": {
  "kernelspec": {
   "display_name": "Python 3 (ipykernel)",
   "language": "python",
   "name": "python3"
  },
  "language_info": {
   "codemirror_mode": {
    "name": "ipython",
    "version": 3
   },
   "file_extension": ".py",
   "mimetype": "text/x-python",
   "name": "python",
   "nbconvert_exporter": "python",
   "pygments_lexer": "ipython3",
   "version": "3.9.12"
  },
  "vscode": {
   "interpreter": {
    "hash": "31f2aee4e71d21fbe5cf8b01ff0e069b9275f58929596ceb00d14d90e3e16cd6"
   }
  }
 },
 "nbformat": 4,
 "nbformat_minor": 4
}
